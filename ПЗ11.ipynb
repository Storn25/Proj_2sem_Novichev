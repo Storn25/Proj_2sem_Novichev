{
  "nbformat": 4,
  "nbformat_minor": 0,
  "metadata": {
    "colab": {
      "name": "ПЗ11.ipynb",
      "provenance": [],
      "authorship_tag": "ABX9TyMyWP/7qSv5o/ekMIOkxW2Q",
      "include_colab_link": true
    },
    "kernelspec": {
      "name": "python3",
      "display_name": "Python 3"
    },
    "language_info": {
      "name": "python"
    }
  },
  "cells": [
    {
      "cell_type": "markdown",
      "metadata": {
        "id": "view-in-github",
        "colab_type": "text"
      },
      "source": [
        "<a href=\"https://colab.research.google.com/github/Storn25/Proj_2sem_Novichev/blob/master/%D0%9F%D0%9711.ipynb\" target=\"_parent\"><img src=\"https://colab.research.google.com/assets/colab-badge.svg\" alt=\"Open In Colab\"/></a>"
      ]
    },
    {
      "cell_type": "markdown",
      "source": [
        "ПЗ 3 Задача 1"
      ],
      "metadata": {
        "id": "yHUzEDdx1NhT"
      }
    },
    {
      "cell_type": "code",
      "source": [
        "x, y = input('Введите x, y, разделенные пробелом: ').split()\n",
        "\n",
        "while type(x) != int or type(y) != int:\n",
        "    # Обработка исключений\n",
        "    try:\n",
        "        x, y = int(x), int(y)\n",
        "    except ValueError:\n",
        "        print('x или y не число')\n",
        "        x, y = input('Введите x, y, разделенные пробелом, заново: ').split()\n",
        "\n",
        "print('Точка с координатами (x, y) лежит в первой или третьей коорд. четверти -',\n",
        "      True if (x > 0 and y > 0) or (x < 0 and y < 0) else False)"
      ],
      "metadata": {
        "colab": {
          "base_uri": "https://localhost:8080/"
        },
        "id": "VwLTFjiU1VUm",
        "outputId": "2439a8e2-7f7c-4f5c-f929-32cfd8b52e25"
      },
      "execution_count": null,
      "outputs": [
        {
          "output_type": "stream",
          "name": "stdout",
          "text": [
            "Введите x, y, разделенные пробелом: 2 3\n",
            "Точка с координатами (x, y) лежит в первой или третьей коорд. четверти - True\n"
          ]
        }
      ]
    },
    {
      "cell_type": "markdown",
      "source": [
        "ПЗ 4 Задача 1"
      ],
      "metadata": {
        "id": "WzrA307r1xSj"
      }
    },
    {
      "cell_type": "code",
      "source": [
        "# Дано целое число N(>0). Найти сумму N^2 + (N + 1)^2 + ... + (2N)^2\n",
        "\n",
        "n = input('Введите целое число(>0): ')\n",
        "while type(n) != int:\n",
        "    # Обработка исключений\n",
        "    try:\n",
        "        n = int(n)\n",
        "    except ValueError:\n",
        "        print('Вы ввели не число')\n",
        "        n = input('Введите целое число(>0): ')\n",
        "\n",
        "i = n\n",
        "summa = 0\n",
        "while i <= 2*n:\n",
        "    summa += i ** 2\n",
        "    i += 1\n",
        "print('Сумма:', summa)"
      ],
      "metadata": {
        "colab": {
          "base_uri": "https://localhost:8080/"
        },
        "id": "H8jkM_AC1xg9",
        "outputId": "d0f35aa0-8f9b-4ffb-baf0-14b5649f332a"
      },
      "execution_count": null,
      "outputs": [
        {
          "output_type": "stream",
          "name": "stdout",
          "text": [
            "Введите целое число(>0): 3\n",
            "Сумма: 86\n"
          ]
        }
      ]
    },
    {
      "cell_type": "markdown",
      "source": [
        "ПЗ 5 Задача 1 \n"
      ],
      "metadata": {
        "id": "Joee0vhv1xrt"
      }
    },
    {
      "cell_type": "code",
      "source": [
        "# Составить функцию решения задачи: из заданного числа вычли сумму его цифр. Из результата вновь вычли сумму его цифр\n",
        "# и т.д. Через сколько таких действий получится нуль?\n",
        "\n",
        "def foo(num):\n",
        "    c = 0\n",
        "    while num != 0:\n",
        "        s = 0\n",
        "        for i in str(num):\n",
        "            s += int(i)\n",
        "        num -= s\n",
        "        c += 1\n",
        "    return c\n",
        "\n",
        "n = int(input('Введите число: '))\n",
        "print(foo(n))"
      ],
      "metadata": {
        "colab": {
          "base_uri": "https://localhost:8080/"
        },
        "id": "Z8wb8N_91x2t",
        "outputId": "a45252fc-bc9b-4d2c-a4e7-4249cdbea345"
      },
      "execution_count": null,
      "outputs": [
        {
          "output_type": "stream",
          "name": "stdout",
          "text": [
            "Введите число: 23234\n",
            "1401\n"
          ]
        }
      ]
    }
  ]
}